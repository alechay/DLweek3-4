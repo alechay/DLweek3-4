{
 "cells": [
  {
   "cell_type": "code",
   "execution_count": 2,
   "metadata": {},
   "outputs": [
    {
     "name": "stdout",
     "output_type": "stream",
     "text": [
      "WARNING:tensorflow:From /Users/alechay/opt/anaconda3/envs/DLweek3-4/lib/python3.7/site-packages/tensorflow_core/python/compat/v2_compat.py:65: disable_resource_variables (from tensorflow.python.ops.variable_scope) is deprecated and will be removed in a future version.\n",
      "Instructions for updating:\n",
      "non-resource variables are not supported in the long term\n"
     ]
    }
   ],
   "source": [
    "import SimpleITK as sitk\n",
    "\n",
    "# dltk compatible with tensorflow 1\n",
    "import tensorflow.compat.v1 as tf\n",
    "tf.disable_v2_behavior()\n",
    "\n",
    "import os\n",
    "import numpy as np\n",
    "\n",
    "from dltk.io.augmentation import extract_random_example_array, flip\n",
    "from dltk.io.preprocessing import whitening"
   ]
  },
  {
   "cell_type": "code",
   "execution_count": null,
   "metadata": {},
   "outputs": [],
   "source": [
    "def read_fn(file_references, mode, params=None):\n",
    "    \"\"\"A custom python read function for interfacing with nii image files.\n",
    "    Args:\n",
    "        file_references (list): A list of lists containing file references,\n",
    "            such as [['id_0', 'image_filename_0', target_value_0], ...,\n",
    "            ['id_N', 'image_filename_N', target_value_N]].\n",
    "        mode (str): One of the tf.estimator.ModeKeys strings: TRAIN, EVAL or\n",
    "            PREDICT.\n",
    "        params (dict, optional): A dictionary to parametrise read_fn outputs\n",
    "            (e.g. reader_params = {'n_examples': 10, 'example_size':\n",
    "            [64, 64, 64], 'extract_examples': True}, etc.).\n",
    "    Yields:\n",
    "        dict: A dictionary of reader outputs for dltk.io.abstract_reader.\n",
    "    \"\"\"\n",
    "\n",
    "    def _augment(img):\n",
    "        \"\"\"An image augmentation function\"\"\"\n",
    "        return flip(img, axis=2)\n",
    "\n",
    "    for f in file_references:\n",
    "        subject_id = f[0]\n",
    "\n",
    "        data_path = '../../../data/IXI_HH/2mm'\n",
    "\n",
    "        # Read the image nii with sitk\n",
    "        t1_fn = os.path.join(data_path, '{}/T1_2mm.nii.gz'.format(subject_id))\n",
    "        t1 = sitk.GetArrayFromImage(sitk.ReadImage(str(t1_fn)))\n",
    "\n",
    "        # Normalise volume image\n",
    "        t1 = whitening(t1)\n",
    "\n",
    "        images = np.expand_dims(t1, axis=-1).astype(np.float32)\n",
    "\n",
    "        if mode == tf.estimator.ModeKeys.PREDICT:\n",
    "            yield {'features': {'x': images}, 'img_id': subject_id}\n",
    "\n",
    "        # Parse the sex classes from the file_references [1,2] and shift them\n",
    "        # to [0,1]\n",
    "        sex = np.int(f[1]) - 1\n",
    "        y = np.expand_dims(sex, axis=-1).astype(np.int32)\n",
    "\n",
    "        # Augment if used in training mode\n",
    "        if mode == tf.estimator.ModeKeys.TRAIN:\n",
    "            images = _augment(images)\n",
    "\n",
    "        # Check if the reader is supposed to return training examples or full\n",
    "        # images\n",
    "        if params['extract_examples']:\n",
    "            images = extract_random_example_array(\n",
    "                image_list=images,\n",
    "                example_size=params['example_size'],\n",
    "                n_examples=params['n_examples'])\n",
    "\n",
    "            for e in range(params['n_examples']):\n",
    "                yield {'features': {'x': images[e].astype(np.float32)},\n",
    "                       'labels': {'y': y.astype(np.float32)},\n",
    "                       'img_id': subject_id}\n",
    "\n",
    "        else:\n",
    "            yield {'features': {'x': images},\n",
    "                   'labels': {'y': y.astype(np.float32)},\n",
    "                   'img_id': subject_id}\n",
    "\n",
    "    return"
   ]
  }
 ],
 "metadata": {
  "kernelspec": {
   "display_name": "Python (DLweek3-4)",
   "language": "python",
   "name": "dlweek3-4"
  },
  "language_info": {
   "codemirror_mode": {
    "name": "ipython",
    "version": 3
   },
   "file_extension": ".py",
   "mimetype": "text/x-python",
   "name": "python",
   "nbconvert_exporter": "python",
   "pygments_lexer": "ipython3",
   "version": "3.7.9"
  }
 },
 "nbformat": 4,
 "nbformat_minor": 4
}
